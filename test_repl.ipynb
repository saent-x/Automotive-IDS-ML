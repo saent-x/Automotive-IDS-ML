{
 "cells": [
  {
   "cell_type": "code",
   "metadata": {
    "ExecuteTime": {
     "end_time": "2024-07-05T14:53:03.310260Z",
     "start_time": "2024-07-05T14:53:01.693813Z"
    }
   },
   "source": [
    "from py_pkg.core.core import get_human_time, read_dataset_and_split, get_test_dataset\n",
    "from py_pkg.algos.algo import Algo\n",
    "from py_pkg.entities.entities import TestDataType, AttackType, AlgoToPredict\n",
    "from py_pkg.testing.testing import Testing\n",
    "\n",
    "import numpy as np\n",
    "import pandas as pd\n",
    "from sklearn import preprocessing\n",
    "import matplotlib.pyplot as plt"
   ],
   "outputs": [],
   "execution_count": 1
  },
  {
   "cell_type": "code",
   "metadata": {
    "ExecuteTime": {
     "end_time": "2024-07-05T14:53:09.142380Z",
     "start_time": "2024-07-05T14:53:03.311952Z"
    }
   },
   "source": [
    "# import datasets\n",
    "training_dataset_dir = './datasets/cantrainandtest/can-train-and-test/set_01/train_01/'\n",
    "testing_dataset_dir_1 = './datasets/cantrainandtest/can-train-and-test/set_01/test_01_known_vehicle_known_attack/'\n",
    "testing_dataset_dir_2 = './datasets/cantrainandtest/can-train-and-test/set_01/test_02_unknown_vehicle_known_attack/'\n",
    "\n",
    "# import kvka test datasets\n",
    "DoS_3_kvka = pd.read_csv(testing_dataset_dir_1 + \"DoS-3.csv\")\n",
    "DoS_4_kvka = pd.read_csv(testing_dataset_dir_1 + \"DoS-4.csv\")\n",
    "\n",
    "force_neutral_3_kvka = pd.read_csv(testing_dataset_dir_1 + \"force-neutral-3.csv\")\n",
    "force_neutral_4_kvka = pd.read_csv(testing_dataset_dir_1 + \"force-neutral-4.csv\")\n",
    "\n",
    "# import uvka test datasets\n",
    "DoS_3_uvka = pd.read_csv(testing_dataset_dir_2 + \"DoS-3.csv\")\n",
    "DoS_4_uvka = pd.read_csv(testing_dataset_dir_2 + \"DoS-4.csv\")\n",
    "\n",
    "force_neutral_3_uvka = pd.read_csv(testing_dataset_dir_2 + \"force-neutral-3.csv\")\n",
    "force_neutral_4_uvka = pd.read_csv(testing_dataset_dir_2 + \"force-neutral-4.csv\")\n",
    "\n",
    "# import train dataset\n",
    "attack_free_1 = pd.read_csv(training_dataset_dir + \"attack-free-1.csv\")\n",
    "attack_free_2 = pd.read_csv(training_dataset_dir + \"attack-free-2.csv\")\n",
    "\n",
    "DoS_1 = pd.read_csv(training_dataset_dir + \"DoS-1.csv\")\n",
    "DoS_2 = pd.read_csv(training_dataset_dir + \"DoS-2.csv\")\n",
    "\n",
    "force_neutral_1 = pd.read_csv(training_dataset_dir + \"force-neutral-1.csv\")\n",
    "force_neutral_2 = pd.read_csv(training_dataset_dir + \"force-neutral-2.csv\")\n"
   ],
   "outputs": [],
   "execution_count": 2
  },
  {
   "cell_type": "code",
   "metadata": {
    "ExecuteTime": {
     "end_time": "2024-07-05T14:53:09.655339Z",
     "start_time": "2024-07-05T14:53:09.143549Z"
    }
   },
   "source": [
    "# concatenate test dataset kvka\n",
    "DoS_kvka = pd.concat([DoS_3_kvka, DoS_4_kvka])\n",
    "force_neutral_kvka = pd.concat([force_neutral_3_kvka, force_neutral_4_kvka])\n",
    "\n",
    "# concatenate test dataset uvka\n",
    "DoS_uvka = pd.concat([DoS_3_uvka, DoS_4_uvka])\n",
    "force_neutral_uvka = pd.concat([force_neutral_3_uvka, force_neutral_4_uvka])\n",
    "\n",
    "# concatenate train datasets\n",
    "attack_free = pd.concat([attack_free_1, attack_free_2])\n",
    "DoS = pd.concat([DoS_1, DoS_2])\n",
    "force_neutral = pd.concat([force_neutral_1, force_neutral_2])"
   ],
   "outputs": [],
   "execution_count": 3
  },
  {
   "cell_type": "code",
   "metadata": {
    "ExecuteTime": {
     "end_time": "2024-07-05T14:53:17.502778Z",
     "start_time": "2024-07-05T14:53:09.656475Z"
    }
   },
   "source": [
    "def hex_to_decimal(hex_str):\n",
    "    return int(hex_str, 16)\n",
    "\n",
    "def decimal_to_hex(dec):\n",
    "    return hex(dec)\n",
    "\n",
    "# update column datatype for train data\n",
    "DoS['data_field'] = DoS['data_field'].apply(hex_to_decimal)\n",
    "DoS['arbitration_id'] = DoS['arbitration_id'].apply(hex_to_decimal)\n",
    "\n",
    "force_neutral['data_field'] = force_neutral['data_field'].apply(hex_to_decimal)\n",
    "force_neutral['arbitration_id'] = force_neutral['arbitration_id'].apply(hex_to_decimal)\n",
    "\n",
    "# update column datatype for test data kvka\n",
    "DoS_kvka['data_field'] = DoS_kvka['data_field'].apply(hex_to_decimal)\n",
    "DoS_kvka['arbitration_id'] = DoS_kvka['arbitration_id'].apply(hex_to_decimal)\n",
    "\n",
    "force_neutral_kvka['data_field'] = force_neutral_kvka['data_field'].apply(hex_to_decimal)\n",
    "force_neutral_kvka['arbitration_id'] = force_neutral_kvka['arbitration_id'].apply(hex_to_decimal)\n",
    "\n",
    "# update column datatype for test data uvka\n",
    "DoS_uvka['data_field'] = DoS_uvka['data_field'].apply(hex_to_decimal)\n",
    "DoS_uvka['arbitration_id'] = DoS_uvka['arbitration_id'].apply(hex_to_decimal)\n",
    "\n",
    "force_neutral_uvka['data_field'] = force_neutral_uvka['data_field'].apply(hex_to_decimal)\n",
    "force_neutral_uvka['arbitration_id'] = force_neutral_uvka['arbitration_id'].apply(hex_to_decimal)\n",
    "\n",
    "display(force_neutral_kvka)\n"
   ],
   "outputs": [
    {
     "data": {
      "text/plain": [
       "           timestamp  arbitration_id            data_field  attack\n",
       "0       1.672531e+09             409  10376029658402455807       0\n",
       "1       1.672531e+09             388           12884901888       0\n",
       "2       1.672531e+09             413   4611756382877457663       0\n",
       "3       1.672531e+09             417                     0       0\n",
       "4       1.672531e+09             455      1868041717547071       0\n",
       "...              ...             ...                   ...     ...\n",
       "839868  1.672532e+09             481            4279566368       0\n",
       "839869  1.672532e+09             193    240048196083575707       0\n",
       "839870  1.672532e+09             197    229227940826484838       0\n",
       "839871  1.672532e+09             485   5115999566495240705       0\n",
       "839872  1.672532e+09             499                     0       0\n",
       "\n",
       "[1744018 rows x 4 columns]"
      ],
      "text/html": [
       "<div>\n",
       "<style scoped>\n",
       "    .dataframe tbody tr th:only-of-type {\n",
       "        vertical-align: middle;\n",
       "    }\n",
       "\n",
       "    .dataframe tbody tr th {\n",
       "        vertical-align: top;\n",
       "    }\n",
       "\n",
       "    .dataframe thead th {\n",
       "        text-align: right;\n",
       "    }\n",
       "</style>\n",
       "<table border=\"1\" class=\"dataframe\">\n",
       "  <thead>\n",
       "    <tr style=\"text-align: right;\">\n",
       "      <th></th>\n",
       "      <th>timestamp</th>\n",
       "      <th>arbitration_id</th>\n",
       "      <th>data_field</th>\n",
       "      <th>attack</th>\n",
       "    </tr>\n",
       "  </thead>\n",
       "  <tbody>\n",
       "    <tr>\n",
       "      <th>0</th>\n",
       "      <td>1.672531e+09</td>\n",
       "      <td>409</td>\n",
       "      <td>10376029658402455807</td>\n",
       "      <td>0</td>\n",
       "    </tr>\n",
       "    <tr>\n",
       "      <th>1</th>\n",
       "      <td>1.672531e+09</td>\n",
       "      <td>388</td>\n",
       "      <td>12884901888</td>\n",
       "      <td>0</td>\n",
       "    </tr>\n",
       "    <tr>\n",
       "      <th>2</th>\n",
       "      <td>1.672531e+09</td>\n",
       "      <td>413</td>\n",
       "      <td>4611756382877457663</td>\n",
       "      <td>0</td>\n",
       "    </tr>\n",
       "    <tr>\n",
       "      <th>3</th>\n",
       "      <td>1.672531e+09</td>\n",
       "      <td>417</td>\n",
       "      <td>0</td>\n",
       "      <td>0</td>\n",
       "    </tr>\n",
       "    <tr>\n",
       "      <th>4</th>\n",
       "      <td>1.672531e+09</td>\n",
       "      <td>455</td>\n",
       "      <td>1868041717547071</td>\n",
       "      <td>0</td>\n",
       "    </tr>\n",
       "    <tr>\n",
       "      <th>...</th>\n",
       "      <td>...</td>\n",
       "      <td>...</td>\n",
       "      <td>...</td>\n",
       "      <td>...</td>\n",
       "    </tr>\n",
       "    <tr>\n",
       "      <th>839868</th>\n",
       "      <td>1.672532e+09</td>\n",
       "      <td>481</td>\n",
       "      <td>4279566368</td>\n",
       "      <td>0</td>\n",
       "    </tr>\n",
       "    <tr>\n",
       "      <th>839869</th>\n",
       "      <td>1.672532e+09</td>\n",
       "      <td>193</td>\n",
       "      <td>240048196083575707</td>\n",
       "      <td>0</td>\n",
       "    </tr>\n",
       "    <tr>\n",
       "      <th>839870</th>\n",
       "      <td>1.672532e+09</td>\n",
       "      <td>197</td>\n",
       "      <td>229227940826484838</td>\n",
       "      <td>0</td>\n",
       "    </tr>\n",
       "    <tr>\n",
       "      <th>839871</th>\n",
       "      <td>1.672532e+09</td>\n",
       "      <td>485</td>\n",
       "      <td>5115999566495240705</td>\n",
       "      <td>0</td>\n",
       "    </tr>\n",
       "    <tr>\n",
       "      <th>839872</th>\n",
       "      <td>1.672532e+09</td>\n",
       "      <td>499</td>\n",
       "      <td>0</td>\n",
       "      <td>0</td>\n",
       "    </tr>\n",
       "  </tbody>\n",
       "</table>\n",
       "<p>1744018 rows × 4 columns</p>\n",
       "</div>"
      ]
     },
     "metadata": {},
     "output_type": "display_data"
    }
   ],
   "execution_count": 4
  },
  {
   "cell_type": "code",
   "metadata": {
    "ExecuteTime": {
     "end_time": "2024-07-05T14:53:36.562921Z",
     "start_time": "2024-07-05T14:53:17.504522Z"
    }
   },
   "source": [
    "# save training data\n",
    "DoS.to_csv(\"./datasets/clean-data-2/set-1/training-data/dos/dos.csv\", sep=',', index=False, encoding='utf-8')\n",
    "force_neutral.to_csv(\"./datasets/clean-data-2/set-1/training-data/force_neutral/force_neutral.csv\", sep=',', index=False, encoding='utf-8')\n",
    "\n",
    "# save testing data kvka\n",
    "DoS_kvka.to_csv(\"./datasets/clean-data-2/set-1/testing-data/dos/dos.csv\", sep=',', index=False, encoding='utf-8')\n",
    "force_neutral_kvka.to_csv(\"./datasets/clean-data-2/set-1/training-data/force_neutral/force_neutral.csv\", sep=',', index=False, encoding='utf-8')\n",
    "\n",
    "# save testing data uvka\n",
    "DoS_uvka.to_csv(\"./datasets/clean-data-2/set-1/testing-data/dos/dos.csv\", sep=',', index=False, encoding='utf-8')\n",
    "force_neutral_uvka.to_csv(\"./datasets/clean-data-2/set-1/training-data/force_neutral/force_neutral.csv\", sep=',', index=False, encoding='utf-8')"
   ],
   "outputs": [],
   "execution_count": 5
  },
  {
   "cell_type": "code",
   "metadata": {
    "ExecuteTime": {
     "end_time": "2024-07-05T14:54:18.468028Z",
     "start_time": "2024-07-05T14:53:36.563909Z"
    }
   },
   "source": [
    "import time\n",
    "\n",
    "dos_dir = \"./datasets/clean-data-2/set-1/training-data/dos/dos.csv\"\n",
    "fn_dir = \"./datasets/clean-data-2/set-1/training-data/force_neutral/force_neutral.csv\"\n",
    "\n",
    "start_time = time.time()\n",
    "\n",
    "dos_dataset = read_dataset_and_split(dos_dir)\n",
    "fn_dataset = read_dataset_and_split(fn_dir)\n",
    "\n",
    "# initialize algo\n",
    "algo_1 = Algo(dos_dataset)\n",
    "algo_2 = Algo(dos_dataset)\n",
    "\n",
    "print(\"==> ml-algo [Initializing]\")\n",
    "\n",
    "# implement individual algo\n",
    "algo_1.impl_random_forests()\n",
    "algo_1.impl_xgboost()\n",
    "algo_1.impl_kmeans()\n",
    "\n",
    "algo_2.impl_random_forests()\n",
    "algo_2.impl_xgboost()\n",
    "algo_2.impl_kmeans()\n",
    "\n"
   ],
   "outputs": [
    {
     "name": "stdout",
     "output_type": "stream",
     "text": [
      "==> ml-algo [Initializing]\n",
      "==> ml-algo [Random Forests Implemented in 00:07]\n",
      "==> ml-algo [Gradient Boosting Implemented in 00:09]\n",
      "==> ml-algo [KMeans Implemented in 00:01]\n",
      "==> ml-algo [Random Forests Implemented in 00:08]\n",
      "==> ml-algo [Gradient Boosting Implemented in 00:11]\n",
      "==> ml-algo [KMeans Implemented in 00:01]\n"
     ]
    }
   ],
   "execution_count": 6
  },
  {
   "metadata": {
    "ExecuteTime": {
     "end_time": "2024-07-05T15:14:14.287831Z",
     "start_time": "2024-07-05T15:14:14.278770Z"
    }
   },
   "cell_type": "code",
   "source": [
    "from py_pkg.testing.testing import Testing\n",
    "\n",
    "tests = Testing()\n",
    "\n",
    "def run_all_tests(algo, title):\n",
    "    # Random Forests\n",
    "    true_values_pred_values_rf_kv_ka = tests.test_for_2(TestDataType.kv_ka, algo, AlgoToPredict.random_forest)\n",
    "    test_metrics_rf_kv_ka = tests.generate_all_test_metrics(true_values_pred_values_rf_kv_ka)\n",
    "    \n",
    "    true_values_pred_values_rf_uv_ka = tests.test_for_2(TestDataType.uv_ka, algo, AlgoToPredict.random_forest)\n",
    "    test_metrics_rf_uv_ka = tests.generate_all_test_metrics(true_values_pred_values_rf_uv_ka)\n",
    "    \n",
    "    # save results\n",
    "    tests.save_testing_results_2(test_metrics_rf_kv_ka, f\"[{title}] Random Forests - KV-KA\")\n",
    "    tests.save_testing_results_2(test_metrics_rf_uv_ka, f\"[{title}] Random Forests - UV-KA\")\n",
    "    \n",
    "    \n",
    "    # Extreme Gradient Boosting\n",
    "    true_values_pred_values_xg_kv_ka = tests.test_for_2(TestDataType.kv_ka, algo, AlgoToPredict.xgboost)\n",
    "    test_metrics_xg_kv_ka = tests.generate_all_test_metrics(true_values_pred_values_xg_kv_ka)\n",
    "    \n",
    "    true_values_pred_values_xg_uv_ka = tests.test_for_2(TestDataType.uv_ka, algo, AlgoToPredict.xgboost)\n",
    "    test_metrics_xg_uv_ka = tests.generate_all_test_metrics(true_values_pred_values_xg_uv_ka)\n",
    "    \n",
    "    # save results\n",
    "    tests.save_testing_results_2(test_metrics_xg_kv_ka, f\"[{title}] Extreme Gradient Boosting - KV-KA\")\n",
    "    tests.save_testing_results_2(test_metrics_xg_uv_ka, f\"[{title}] Extreme Gradient Boosting - UV-KA\")\n",
    "    \n",
    "    # K-Means Clustering\n",
    "    true_values_pred_values_kmeans_kv_ka = tests.test_for_2(TestDataType.kv_ka, algo, AlgoToPredict.k_means)\n",
    "    test_metrics_kmeans_kv_ka = tests.generate_all_test_metrics(true_values_pred_values_kmeans_kv_ka)\n",
    "    \n",
    "    true_values_pred_values_kmeans_uv_ka = tests.test_for_2(TestDataType.uv_ka, algo, AlgoToPredict.k_means)\n",
    "    test_metrics_kmeans_uv_ka = tests.generate_all_test_metrics(true_values_pred_values_kmeans_uv_ka)\n",
    "    \n",
    "    # save results\n",
    "    tests.save_testing_results_2(test_metrics_kmeans_kv_ka, f\"[{title}] K-Means - KV-KA\")\n",
    "    tests.save_testing_results_2(test_metrics_kmeans_uv_ka, f\"[{title}] K-Means - UV-KA\")\n",
    "    \n",
    "    close_time = time.time()\n",
    "    \n",
    "    print(f\"\\n==> ml-algo [Model training for {title} and Testing Completed in {get_human_time(close_time, start_time)}]\")\n",
    "\n"
   ],
   "outputs": [],
   "execution_count": 10
  },
  {
   "metadata": {
    "jupyter": {
     "is_executing": true
    },
    "ExecuteTime": {
     "start_time": "2024-07-05T15:14:17.291108Z"
    }
   },
   "cell_type": "code",
   "source": [
    "algos = [(algo_1, 'DoS'), (algo_2, 'Force Neutral')]\n",
    "\n",
    "for algo, title in algos:\n",
    "    run_all_tests(algo, title)"
   ],
   "outputs": [
    {
     "name": "stdout",
     "output_type": "stream",
     "text": [
      "==> ml-algo [Predicting for Random Forests - DoS]\n",
      "==> ml-algo [Predicting for Random Forests - Force Neutral]\n",
      "\n",
      "==> ml-algo [random_forest Predicted in 00:03 for kv_ka test set] \n",
      "\n"
     ]
    },
    {
     "name": "stderr",
     "output_type": "stream",
     "text": [
      "/home/saenttor/Documents/projects/automotive-ids-ml/.venv/lib/python3.11/site-packages/sklearn/metrics/_ranking.py:1183: UndefinedMetricWarning: No positive samples in y_true, true positive value should be meaningless\n",
      "  warnings.warn(\n",
      "/home/saenttor/Documents/projects/automotive-ids-ml/.venv/lib/python3.11/site-packages/sklearn/metrics/_ranking.py:1183: UndefinedMetricWarning: No positive samples in y_true, true positive value should be meaningless\n",
      "  warnings.warn(\n"
     ]
    }
   ],
   "execution_count": null
  },
  {
   "metadata": {},
   "cell_type": "code",
   "outputs": [],
   "execution_count": null,
   "source": ""
  }
 ],
 "metadata": {
  "kernelspec": {
   "display_name": ".venv",
   "language": "python",
   "name": "python3"
  },
  "language_info": {
   "codemirror_mode": {
    "name": "ipython",
    "version": 3
   },
   "file_extension": ".py",
   "mimetype": "text/x-python",
   "name": "python",
   "nbconvert_exporter": "python",
   "pygments_lexer": "ipython3",
   "version": "3.11.9"
  }
 },
 "nbformat": 4,
 "nbformat_minor": 2
}
