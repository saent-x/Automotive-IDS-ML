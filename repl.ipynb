{
 "cells": [
  {
   "cell_type": "code",
   "execution_count": 1,
   "metadata": {},
   "outputs": [],
   "source": [
    "import numpy as np\n",
    "import pandas as pd\n",
    "import matplotlib.pyplot as plt"
   ]
  },
  {
   "cell_type": "markdown",
   "metadata": {},
   "source": [
    "## Dataset\n",
    "1. can-train-and-test dataset\n",
    "    - attack-free\n",
    "    - DoS\n",
    "    - accessory\n",
    "    - force-neutral\n",
    "    - rpm\n",
    "    - standstill"
   ]
  },
  {
   "cell_type": "code",
   "execution_count": 2,
   "metadata": {},
   "outputs": [],
   "source": [
    "## import datasets\n",
    "dataset_dir = './datasets/cantrainandtest/can-train-and-test/set_01/train_01/'\n",
    "attack_free_1 = pd.read_csv(dataset_dir + \"attack-free-1.csv\")\n",
    "attack_free_2 = pd.read_csv(dataset_dir + \"attack-free-2.csv\")\n",
    "DoS_1 = pd.read_csv(dataset_dir + \"DoS-1.csv\")\n",
    "DoS_2 = pd.read_csv(dataset_dir + \"DoS-2.csv\")\n",
    "accessory_1 = pd.read_csv(dataset_dir + \"accessory-1.csv\")\n",
    "accessory_2 = pd.read_csv(dataset_dir + \"accessory-2.csv\")\n",
    "force_neutral_1 = pd.read_csv(dataset_dir + \"force-neutral-1.csv\")\n",
    "force_neutral_2 = pd.read_csv(dataset_dir + \"force-neutral-2.csv\")\n",
    "rpm_1 = pd.read_csv(dataset_dir + \"rpm-1.csv\")\n",
    "rpm_2 = pd.read_csv(dataset_dir + \"rpm-2.csv\")\n",
    "standstill_1 = pd.read_csv(dataset_dir + \"standstill-1.csv\")\n",
    "standstill_2 = pd.read_csv(dataset_dir + \"standstill-2.csv\")"
   ]
  },
  {
   "cell_type": "code",
   "execution_count": null,
   "metadata": {},
   "outputs": [
    {
     "ename": "",
     "evalue": "",
     "output_type": "error",
     "traceback": [
      "\u001b[1;31mRunning cells with 'Python 3.11.2' requires the ipykernel package.\n",
      "\u001b[1;31mRun the following command to install 'ipykernel' into the Python environment. \n",
      "\u001b[1;31mCommand: '/bin/python3 -m pip install ipykernel -U --user --force-reinstall'"
     ]
    }
   ],
   "source": [
    "## concatenate related datasets\n",
    "attack_free = pd.concat([attack_free_1, attack_free_2])\n",
    "DoS = pd.concat([DoS_1, DoS_2])\n",
    "accessory = pd.concat([accessory_1, accessory_2])\n",
    "force_neutral = pd.concat([force_neutral_1, force_neutral_2])\n",
    "rpm = pd.concat([rpm_1, rpm_2])\n",
    "standstill = pd.concat([standstill_1, standstill_2])"
   ]
  },
  {
   "cell_type": "code",
   "execution_count": null,
   "metadata": {},
   "outputs": [
    {
     "ename": "",
     "evalue": "",
     "output_type": "error",
     "traceback": [
      "\u001b[1;31mRunning cells with 'Python 3.11.2' requires the ipykernel package.\n",
      "\u001b[1;31mRun the following command to install 'ipykernel' into the Python environment. \n",
      "\u001b[1;31mCommand: '/bin/python3 -m pip install ipykernel -U --user --force-reinstall'"
     ]
    }
   ],
   "source": [
    "## concatenate all data-samples into one\n",
    "can_train_and_test_ds = pd.concat([attack_free, DoS, accessory, force_neutral, rpm, standstill])\n",
    "can_train_and_test_ds"
   ]
  },
  {
   "cell_type": "markdown",
   "metadata": {},
   "source": [
    "#### change values of the attack in each dataset"
   ]
  },
  {
   "cell_type": "code",
   "execution_count": null,
   "metadata": {},
   "outputs": [
    {
     "ename": "",
     "evalue": "",
     "output_type": "error",
     "traceback": [
      "\u001b[1;31mRunning cells with 'Python 3.11.2' requires the ipykernel package.\n",
      "\u001b[1;31mRun the following command to install 'ipykernel' into the Python environment. \n",
      "\u001b[1;31mCommand: '/bin/python3 -m pip install ipykernel -U --user --force-reinstall'"
     ]
    }
   ],
   "source": [
    "## since accessory mode is just another attack free mode we'd switch the \"0\" (attack-free) for \"1\" indicating accessory mode\n",
    "accessory['attack'] = accessory['attack'].replace(0,1)\n",
    "DoS['attack'] = DoS['attack'].replace(1,2)\n",
    "force_neutral['attack'] = force_neutral['attack'].replace(1,3)\n",
    "rpm['attack'] = rpm['attack'].replace(1,4)\n",
    "standstill['attack'] = standstill['attack'].replace(1,5)"
   ]
  },
  {
   "cell_type": "markdown",
   "metadata": {},
   "source": [
    "##### merge all subset into a single dataset"
   ]
  },
  {
   "cell_type": "code",
   "execution_count": null,
   "metadata": {},
   "outputs": [
    {
     "ename": "",
     "evalue": "",
     "output_type": "error",
     "traceback": [
      "\u001b[1;31mRunning cells with 'Python 3.11.2' requires the ipykernel package.\n",
      "\u001b[1;31mRun the following command to install 'ipykernel' into the Python environment. \n",
      "\u001b[1;31mCommand: '/bin/python3 -m pip install ipykernel -U --user --force-reinstall'"
     ]
    }
   ],
   "source": [
    "merged_datasets = pd.concat([attack_free, accessory, DoS, force_neutral, rpm, standstill])\n",
    "\n",
    "filtered = merged_datasets[merged_datasets['attack'] == 1]\n",
    "\n",
    "filtered"
   ]
  },
  {
   "cell_type": "markdown",
   "metadata": {},
   "source": [
    "##### One Hot Vector Encode the various attacks"
   ]
  },
  {
   "cell_type": "code",
   "execution_count": null,
   "metadata": {},
   "outputs": [
    {
     "ename": "",
     "evalue": "",
     "output_type": "error",
     "traceback": [
      "\u001b[1;31mRunning cells with 'Python 3.11.2' requires the ipykernel package.\n",
      "\u001b[1;31mRun the following command to install 'ipykernel' into the Python environment. \n",
      "\u001b[1;31mCommand: '/bin/python3 -m pip install ipykernel -U --user --force-reinstall'"
     ]
    }
   ],
   "source": [
    "onv_ds = pd.get_dummies(merged_datasets, columns=['attack'], prefix='attack')\n",
    "\n",
    "onv_ds['attack_0'] = onv_ds['attack_0'].astype(int)\n",
    "onv_ds['attack_1'] = onv_ds['attack_1'].astype(int)\n",
    "onv_ds['attack_2'] = onv_ds['attack_2'].astype(int)\n",
    "onv_ds['attack_3'] = onv_ds['attack_3'].astype(int)\n",
    "onv_ds['attack_4'] = onv_ds['attack_4'].astype(int)\n",
    "onv_ds['attack_5'] = onv_ds['attack_5'].astype(int)\n",
    "\n",
    "onv_ds"
   ]
  },
  {
   "cell_type": "code",
   "execution_count": null,
   "metadata": {},
   "outputs": [
    {
     "ename": "",
     "evalue": "",
     "output_type": "error",
     "traceback": [
      "\u001b[1;31mRunning cells with 'Python 3.11.2' requires the ipykernel package.\n",
      "\u001b[1;31mRun the following command to install 'ipykernel' into the Python environment. \n",
      "\u001b[1;31mCommand: '/bin/python3 -m pip install ipykernel -U --user --force-reinstall'"
     ]
    }
   ],
   "source": [
    "onv_ds.isnull().sum()"
   ]
  },
  {
   "cell_type": "markdown",
   "metadata": {},
   "source": [
    "##### Save new dataset file"
   ]
  },
  {
   "cell_type": "code",
   "execution_count": null,
   "metadata": {},
   "outputs": [
    {
     "ename": "",
     "evalue": "",
     "output_type": "error",
     "traceback": [
      "\u001b[1;31mRunning cells with 'Python 3.11.2' requires the ipykernel package.\n",
      "\u001b[1;31mRun the following command to install 'ipykernel' into the Python environment. \n",
      "\u001b[1;31mCommand: '/bin/python3 -m pip install ipykernel -U --user --force-reinstall'"
     ]
    }
   ],
   "source": [
    "onv_ds.to_csv(\"updated_dataset\", sep=',', index=False, encoding='utf-8')"
   ]
  }
 ],
 "metadata": {
  "kernelspec": {
   "display_name": ".venv",
   "language": "python",
   "name": "python3"
  },
  "language_info": {
   "codemirror_mode": {
    "name": "ipython",
    "version": 3
   },
   "file_extension": ".py",
   "mimetype": "text/x-python",
   "name": "python",
   "nbconvert_exporter": "python",
   "pygments_lexer": "ipython3",
   "version": "3.11.2"
  }
 },
 "nbformat": 4,
 "nbformat_minor": 2
}
